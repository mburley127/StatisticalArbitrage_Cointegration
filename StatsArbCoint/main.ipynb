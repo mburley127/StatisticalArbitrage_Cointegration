{
 "cells": [
  {
   "cell_type": "code",
   "execution_count": 9,
   "metadata": {},
   "outputs": [],
   "source": [
    "### Library Imports\n",
    "import yfinance as yf\n",
    "import pandas as pd\n",
    "import matplotlib.pyplot as plt\n",
    "import seaborn as sns\n",
    "import statsmodels.api as sm\n",
    "import numpy as np\n",
    "import itertools\n",
    "import warnings\n",
    "warnings.filterwarnings(\"ignore\")\n",
    "from statsmodels.tsa.vector_ar.vecm import coint_johansen\n"
   ]
  },
  {
   "cell_type": "code",
   "execution_count": 7,
   "metadata": {},
   "outputs": [
    {
     "name": "stderr",
     "output_type": "stream",
     "text": [
      "[*********************100%%**********************]  10 of 10 completed\n"
     ]
    },
    {
     "name": "stdout",
     "output_type": "stream",
     "text": [
      "           Date        AAPL        MSFT        GOOG         JNJ         XOM  \\\n",
      "1253 2023-12-22  192.656174  142.209030  150.689331  162.655762  371.799683   \n",
      "1254 2023-12-26  192.108871  142.308670  151.348450  163.617722  371.879150   \n",
      "1255 2023-12-27  192.208359  140.933624  151.552017  164.599060  371.293518   \n",
      "1256 2023-12-28  192.636292  140.774185  151.774963  165.473572  372.494537   \n",
      "1257 2023-12-29  191.591385  140.425430  151.930054  165.279251  373.248932   \n",
      "\n",
      "           TSLA         JPM         UNH        NVDA         PG  \n",
      "1253  48.816162  140.891907  252.539993  512.289185  98.548386  \n",
      "1254  49.265030  141.531998  256.609985  512.013550  98.770782  \n",
      "1255  49.402992  141.648376  261.440002  514.730957  98.306618  \n",
      "1256  49.507965  141.328323  253.179993  516.808472  96.885117  \n",
      "1257  49.507965  142.113861  248.479996  518.354187  96.682037  \n"
     ]
    }
   ],
   "source": [
    "### Function to Import Stock Data\n",
    "def import_stock_data(tickers, start_date, end_date):\n",
    "    data = pd.DataFrame()\n",
    "    if len([tickers]) == 1:\n",
    "        data[tickers] = yf.download(tickers, start_date, end_date)['Adj Close']\n",
    "        data = pd.DataFrame(data)\n",
    "    else:\n",
    "        for t in tickers:\n",
    "            data[t] = yf.download(tickers, start_date, end_date)['Adj Close']\n",
    "    \n",
    "    # Reset index to include the Date as a column\n",
    "    data = data.reset_index()\n",
    "\n",
    "    return data\n",
    "\n",
    "# Import Stock Data\n",
    "tickers = ['AAPL', 'MSFT', 'GOOG', 'JNJ', 'XOM', 'TSLA', 'JPM', 'UNH', 'NVDA', 'PG']\n",
    "start_date = '2019-01-01'\n",
    "end_date = '2024-01-01'\n",
    "stock_data = import_stock_data(tickers, start_date, end_date)\n",
    "print(stock_data.tail())"
   ]
  },
  {
   "cell_type": "code",
   "execution_count": 8,
   "metadata": {},
   "outputs": [
    {
     "name": "stdout",
     "output_type": "stream",
     "text": [
      "        Date      AAPL      MSFT      GOOG       JNJ       XOM      TSLA  \\\n",
      "0 2019-01-03 -0.099608 -0.028484 -0.015891 -0.014212 -0.036788 -0.060417   \n",
      "1 2019-01-04  0.042689  0.053786  0.016783  0.036866  0.046509  0.064067   \n",
      "2 2019-01-07 -0.002226 -0.002167 -0.006415  0.000695  0.001275  0.052941   \n",
      "3 2019-01-08  0.019063  0.007385  0.023227 -0.001886  0.007251 -0.024896   \n",
      "4 2019-01-09  0.016982 -0.001505 -0.007926 -0.001691  0.014300  0.019667   \n",
      "\n",
      "        JPM       UNH      NVDA        PG  \n",
      "0 -0.007012 -0.031472 -0.027270 -0.015354  \n",
      "1  0.020411  0.057697  0.011695  0.036870  \n",
      "2 -0.004000  0.054361  0.001920  0.005200  \n",
      "3  0.003691  0.001164  0.013371  0.007271  \n",
      "4 -0.016332  0.009483  0.001439  0.005275  \n"
     ]
    }
   ],
   "source": [
    "### Compute Direct Hedge Daily Returns\n",
    "def direct_daily_rets(data):\n",
    "    # Ensure 'Date' is set as the index for proper computation\n",
    "    data.set_index('Date', inplace=True)\n",
    "    \n",
    "    # Compute the daily returns of the forex data\n",
    "    rets = data.pct_change().dropna()\n",
    "    \n",
    "    # Reset index to make date a column again\n",
    "    rets.reset_index(inplace=True)\n",
    "\n",
    "    return rets\n",
    "\n",
    "### Call Function to Calculate Daily Returns\n",
    "daily_returns = direct_daily_rets(stock_data)\n",
    "print(daily_returns.head())\n"
   ]
  },
  {
   "cell_type": "code",
   "execution_count": 16,
   "metadata": {},
   "outputs": [
    {
     "name": "stdout",
     "output_type": "stream",
     "text": [
      "Johansen Test Results (det_order=1)\n",
      "\n",
      "Trace Statistics: [5348.45381306 4671.28495513 4054.04646308 3459.60223303 2902.37188466\n",
      " 2353.69549231 1827.66653296 1323.50533048  847.45688464  411.538322  ]\n",
      "Max Eigenvalue Statistics: [677.16885793 617.23849205 594.44423005 557.23034837 548.67639235\n",
      " 526.02895935 504.16120248 476.04844584 435.91856264 411.538322  ]\n",
      "\n",
      "Critical Values (Trace Test):\n",
      "1%: [251.6293 208.3582 169.0618 133.7852 102.4674  75.1027  51.6492  32.0645\n",
      "  16.1619   2.7055], 5%: [259.0267 215.1268 175.1584 139.278  107.3429  79.3422  55.2459  35.0116\n",
      "  18.3985   3.8415], 10%: [273.3838 228.2226 187.1891 150.0778 116.9829  87.7748  62.5202  41.0815\n",
      "  23.1485   6.6349]\n",
      "\n",
      "Critical Values (Max Eigenvalue Test):\n",
      "1%: [64.5292 58.5316 52.5858 46.5583 40.5244 34.4202 28.2398 21.8731 15.0006\n",
      "  2.7055], 5%: [67.904  61.8051 55.7302 49.5875 43.4183 37.1646 30.8151 24.2522 17.1481\n",
      "  3.8415], 10%: [74.7434 68.503  62.1741 55.8171 49.4095 42.8612 36.193  29.2631 21.7465\n",
      "  6.6349]\n",
      "\n",
      "Estimated number of cointegrating relationships: 10\n",
      "<statsmodels.tsa.vector_ar.vecm.JohansenTestResult object at 0x7fb0cc105f70>\n"
     ]
    }
   ],
   "source": [
    "### Test Cointegration - Johansen Test\n",
    "# https://medium.com/@cemalozturk/unveiling-cointegration-johansen-test-explained-with-python-examples-db8385219f1f\n",
    "from statsmodels.tsa.vector_ar.vecm import coint_johansen\n",
    "import numpy as np\n",
    "\n",
    "def johansen_test(data, det_order=0, k_ar_diff=1):\n",
    "    \"\"\"\n",
    "    Performs the Johansen cointegration test on multiple assets.\n",
    "\n",
    "    Parameters:\n",
    "    data (pandas.DataFrame): DataFrame containing daily returns (excluding date column).\n",
    "    det_order (int): The order of deterministic terms.\n",
    "                     -1: No constant or trend.\n",
    "                      0: Constant term only.\n",
    "                      1: Constant and trend terms.\n",
    "    k_ar_diff (int): The number of lags to include in the VAR model.\n",
    "\n",
    "    Returns:\n",
    "    result: The JohansenTestResult object containing test statistics and critical values.\n",
    "    \"\"\"\n",
    "    try:\n",
    "        # Ensure Date column is removed if it exists\n",
    "        if 'Date' in data.columns:\n",
    "            data = data.drop(columns=['Date'])\n",
    "\n",
    "        # Convert to NumPy array\n",
    "        data_np = data.values\n",
    "\n",
    "        # Run Johansen cointegration test\n",
    "        result = coint_johansen(data_np, det_order, k_ar_diff)\n",
    "        print(f'Johansen Test Results (det_order={det_order})\\n')\n",
    "\n",
    "        # Print test statistics\n",
    "        print('Trace Statistics:', result.lr1)\n",
    "        print('Max Eigenvalue Statistics:', result.lr2)\n",
    "        \n",
    "        # Print critical values at 1%, 5%, and 10%\n",
    "        print('\\nCritical Values (Trace Test):')\n",
    "        print(f\"1%: {result.cvt[:, 0]}, 5%: {result.cvt[:, 1]}, 10%: {result.cvt[:, 2]}\")\n",
    "\n",
    "        print('\\nCritical Values (Max Eigenvalue Test):')\n",
    "        print(f\"1%: {result.cvm[:, 0]}, 5%: {result.cvm[:, 1]}, 10%: {result.cvm[:, 2]}\\n\")\n",
    "\n",
    "        # Determine the number of cointegrating relationships\n",
    "        r = sum(result.lr1 > result.cvt[:, 1])  # Compare trace test stats to 5% critical values\n",
    "        print(f'Estimated number of cointegrating relationships: {r}')\n",
    "\n",
    "        return result\n",
    "    \n",
    "    except Exception as e:\n",
    "        print(f'An error occurred during the Johansen test: {e}')\n",
    "        return None\n",
    "\n",
    "# Johansen Test Function Return \n",
    "result = johansen_test(daily_returns, det_order=1, k_ar_diff=1)\n",
    "print(result)\n"
   ]
  }
 ],
 "metadata": {
  "kernelspec": {
   "display_name": "base",
   "language": "python",
   "name": "python3"
  },
  "language_info": {
   "codemirror_mode": {
    "name": "ipython",
    "version": 3
   },
   "file_extension": ".py",
   "mimetype": "text/x-python",
   "name": "python",
   "nbconvert_exporter": "python",
   "pygments_lexer": "ipython3",
   "version": "3.8.18"
  }
 },
 "nbformat": 4,
 "nbformat_minor": 2
}
