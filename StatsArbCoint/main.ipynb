{
 "cells": [
  {
   "cell_type": "code",
   "execution_count": 38,
   "metadata": {},
   "outputs": [],
   "source": [
    "### Library Imports\n",
    "import yfinance as yf\n",
    "import pandas as pd\n",
    "import matplotlib.pyplot as plt\n",
    "import seaborn as sns\n",
    "import statsmodels.api as sm\n",
    "import numpy as np\n",
    "import itertools\n",
    "import warnings\n",
    "warnings.filterwarnings(\"ignore\")\n",
    "from statsmodels.tsa.vector_ar.vecm import coint_johansen\n"
   ]
  },
  {
   "cell_type": "code",
   "execution_count": 39,
   "metadata": {},
   "outputs": [
    {
     "name": "stderr",
     "output_type": "stream",
     "text": [
      "[*********************100%%**********************]  2 of 2 completed"
     ]
    },
    {
     "name": "stdout",
     "output_type": "stream",
     "text": [
      "          Date         XOM         CVX\n",
      "247 2024-12-24  143.839996  106.400002\n",
      "248 2024-12-26  143.979996  106.489998\n",
      "249 2024-12-27  144.000000  106.480003\n",
      "250 2024-12-30  143.070007  105.760002\n",
      "251 2024-12-31  144.839996  107.570000\n"
     ]
    },
    {
     "name": "stderr",
     "output_type": "stream",
     "text": [
      "\n"
     ]
    }
   ],
   "source": [
    "### Function to Import Stock Data\n",
    "def import_stock_data(tickers, start_date, end_date):\n",
    "    data = pd.DataFrame()\n",
    "    if len([tickers]) == 1:\n",
    "        data[tickers] = yf.download(tickers, start_date, end_date)['Adj Close']\n",
    "        data = pd.DataFrame(data)\n",
    "    else:\n",
    "        for t in tickers:\n",
    "            data[t] = yf.download(tickers, start_date, end_date)['Adj Close']\n",
    "    \n",
    "    # Reset index to include the Date as a column\n",
    "    data = data.reset_index()\n",
    "\n",
    "    return data\n",
    "\n",
    "# Import Stock Data\n",
    "tickers = [\"XOM\", \"CVX\"]\n",
    "start_date = '2024-01-01'\n",
    "end_date = '2025-01-01'\n",
    "stock_data = import_stock_data(tickers, start_date, end_date)\n",
    "print(stock_data.tail())"
   ]
  },
  {
   "cell_type": "code",
   "execution_count": 40,
   "metadata": {},
   "outputs": [
    {
     "name": "stdout",
     "output_type": "stream",
     "text": [
      "        Date       XOM       CVX\n",
      "0 2024-01-03  0.019066  0.008402\n",
      "1 2024-01-04 -0.010963 -0.008719\n",
      "2 2024-01-05 -0.001726  0.003030\n",
      "3 2024-01-08 -0.005984 -0.016662\n",
      "4 2024-01-09 -0.025418 -0.012386\n"
     ]
    }
   ],
   "source": [
    "### Compute Direct Hedge Daily Returns\n",
    "def direct_daily_rets(data):\n",
    "    # Ensure 'Date' is set as the index for proper computation\n",
    "    data.set_index('Date', inplace=True)\n",
    "    \n",
    "    # Compute the daily returns of the forex data\n",
    "    rets = data.pct_change().dropna()\n",
    "    \n",
    "    # Reset index to make date a column again\n",
    "    rets.reset_index(inplace=True)\n",
    "\n",
    "    return rets\n",
    "\n",
    "### Call Function to Calculate Daily Returns\n",
    "daily_returns = direct_daily_rets(stock_data)\n",
    "print(daily_returns.head())\n"
   ]
  },
  {
   "cell_type": "code",
   "execution_count": 41,
   "metadata": {},
   "outputs": [
    {
     "name": "stdout",
     "output_type": "stream",
     "text": [
      "Since the matrix Π has full rank (r = 2), all time series are stationary, so cointegration testing is unnecessary.\n"
     ]
    }
   ],
   "source": [
    "### Check Cointegration\n",
    "''' \n",
    "The matrix Π determines whether the time series are cointegrated:\n",
    "    1. If Π has full rank (r = n), all series are stationary, no need for cointegration testing.\n",
    "    2. If Π has rank 0, no cointegration exists, meaning the series move independently.\n",
    "    3. If Π has reduced rank (0 < r < n), then there are r cointegrating relationships.\n",
    "'''\n",
    "def check_coint(data, r):\n",
    "    # n = number of columns (number of time series)\n",
    "    n = len(data.columns)\n",
    "    \n",
    "    # Case 1: No Cointegration\n",
    "    if r == 0:\n",
    "        print(f\"Since the matrix Π has rank 0 (r = {r}), the time series are likely non-stationary and no cointegration exists.\")\n",
    "    # Case 2: Some Cointegration Exists\n",
    "    elif 0 < r < n:\n",
    "        print(f\"Cointegration exists with {r} cointegrating relationships, meaning some assets share a long-term equilibrium.\")\n",
    "    # Case 3: Full Rank - All Series are Stationary\n",
    "    elif r == n:\n",
    "        print(f\"Since the matrix Π has full rank (r = {n}), all time series are stationary, so cointegration testing is unnecessary.\")\n",
    "    # Error Handling\n",
    "    else:\n",
    "        print(\"Test did not run successfully. Please check your input values.\")\n",
    "\n",
    "# Example Usage\n",
    "check_coint(stock_data, 2)\n"
   ]
  },
  {
   "cell_type": "code",
   "execution_count": 42,
   "metadata": {},
   "outputs": [
    {
     "name": "stdout",
     "output_type": "stream",
     "text": [
      "Johansen Test Results (det_order = 1)\n",
      "\n",
      "Trace Statistics: [194.08387053  89.48012625]\n",
      "Max Eigenvalue Statistics: [104.60374428  89.48012625]\n",
      "\n",
      "Critical Values (Trace Test):\n",
      "1%: [16.1619  2.7055], 5%: [18.3985  3.8415], 10%: [23.1485  6.6349]\n",
      "\n",
      "Critical Values (Max Eigenvalue Test):\n",
      "1%: [15.0006  2.7055], 5%: [17.1481  3.8415], 10%: [21.7465  6.6349]\n",
      "\n",
      "Estimated number of cointegrating relationships: 2\n",
      "Since the matrix Π has full rank (r = 2), all time series are stationary, so cointegration testing is unnecessary.\n"
     ]
    }
   ],
   "source": [
    "### Test Cointegration - Johansen Test\n",
    "''' \n",
    "The Johansen test is a statistical test used to determine the number of cointegrating relationships among multiple time series. \n",
    "The test uses Trace and Max Eigenvalue tests to check if a group of non-stationary time series share a stable, long-term equilibrium. \n",
    "If cointegration exists, the assets move together over time, making them suitable for pairs trading or statistical arbitrage.\n",
    "'''\n",
    "# https://medium.com/@cemalozturk/unveiling-cointegration-johansen-test-explained-with-python-examples-db8385219f1f\n",
    "def johansen_test(data, det_order = 0, k_ar_diff = 1):\n",
    "    \"\"\"\n",
    "    det_order (int): The order of deterministic terms.\n",
    "                     -1: No constant or trend.\n",
    "                      0: Constant term only.\n",
    "                      1: Constant and trend terms.\n",
    "    k_ar_diff (int): The number of lags to include in the VAR model.\n",
    "    \"\"\"\n",
    "    try:\n",
    "        # Ensure Date column is removed if it exists\n",
    "        if 'Date' in data.columns:\n",
    "            data = data.drop(columns = ['Date'])\n",
    "\n",
    "        # Convert to NumPy array\n",
    "        data_np = data.values\n",
    "\n",
    "        # Run Johansen cointegration test\n",
    "        result = coint_johansen(data_np, det_order, k_ar_diff)\n",
    "        print(f'Johansen Test Results (det_order = {det_order})\\n')\n",
    "\n",
    "        # Print test statistics\n",
    "        trace_stats = result.lr1\n",
    "        max_eigenval_stats = result.lr2\n",
    "        print('Trace Statistics:', trace_stats)\n",
    "        print('Max Eigenvalue Statistics:', max_eigenval_stats)\n",
    "        \n",
    "        # Perform Trace Test and Max Eigenvalue Test at 1%, 5%, and 10% intervals\n",
    "        print('\\nCritical Values (Trace Test):')\n",
    "        print(f\"1%: {result.cvt[:, 0]}, 5%: {result.cvt[:, 1]}, 10%: {result.cvt[:, 2]}\")\n",
    "\n",
    "        print('\\nCritical Values (Max Eigenvalue Test):')\n",
    "        print(f\"1%: {result.cvm[:, 0]}, 5%: {result.cvm[:, 1]}, 10%: {result.cvm[:, 2]}\\n\")\n",
    "\n",
    "        # Determine the number of cointegrating relationships\n",
    "        rank_est = sum(result.lr1 > result.cvt[:, 1])  # Compare trace test stats to 5% critical values\n",
    "        print(f'Estimated number of cointegrating relationships: {rank_est}')\n",
    "\n",
    "        # Return Cointegration\n",
    "        check_coint(stock_data, rank_est)\n",
    "\n",
    "        return trace_stats, max_eigenval_stats, rank_est, result.cvt[:, 1], result.cvm[:, 1]\n",
    "    \n",
    "    except Exception as e:\n",
    "        print(f'An error occurred during the Johansen test: {e}')\n",
    "        return None\n",
    "\n",
    "# Johansen Test Function Return \n",
    "trace_stats, max_eigenval_stats, rank_est, crit_vals_trace, crit_vals_max_ev = johansen_test(daily_returns, det_order = 1, k_ar_diff = 1)\n"
   ]
  },
  {
   "cell_type": "code",
   "execution_count": 43,
   "metadata": {},
   "outputs": [],
   "source": [
    "### Function to Compute P-Values and the Cointegration Score\n",
    "def pvalues_coint_scores(trace_stats, crit_vals_trace):\n",
    "    # Create empty array to store p-values and cointegration scores\n",
    "    p_values = []\n",
    "    coint_scores = []\n",
    "\n",
    "    # Iterate over trace stats by "
   ]
  }
 ],
 "metadata": {
  "kernelspec": {
   "display_name": "base",
   "language": "python",
   "name": "python3"
  },
  "language_info": {
   "codemirror_mode": {
    "name": "ipython",
    "version": 3
   },
   "file_extension": ".py",
   "mimetype": "text/x-python",
   "name": "python",
   "nbconvert_exporter": "python",
   "pygments_lexer": "ipython3",
   "version": "3.8.18"
  }
 },
 "nbformat": 4,
 "nbformat_minor": 2
}
